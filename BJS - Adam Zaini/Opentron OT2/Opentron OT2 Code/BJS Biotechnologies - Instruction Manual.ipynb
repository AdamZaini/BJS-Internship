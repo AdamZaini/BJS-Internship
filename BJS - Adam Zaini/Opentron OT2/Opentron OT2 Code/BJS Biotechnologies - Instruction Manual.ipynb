{
 "cells": [
  {
   "cell_type": "markdown",
   "metadata": {},
   "source": [
    "# Guide to using the Opentrons OT2 for BJS Biotechnologies\n",
    "\n",
    "By Adam Zaini"
   ]
  },
  {
   "cell_type": "markdown",
   "metadata": {},
   "source": [
    "\n",
    "\n",
    "***\n",
    "\n",
    "## *Table of Contents*\n",
    "\n",
    "0. Opening chapter\n",
    "1. Preparing the robot for the MDx Sequence\n",
    "2. Components of the MDx Sequence\n",
    "3. Full sequence test and algorithm\n",
    "4. Creating custom labwares, commands, and procedures\n",
    "5. Examples, tests, and common loops\n",
    "6. Xxplate for the 54 wells and 96 wells"
   ]
  },
  {
   "cell_type": "markdown",
   "metadata": {},
   "source": [
    "\n",
    "\n",
    "________________________________________________________________________________________________________________________________\n",
    "\n",
    "\n",
    "## 0. *Opening Chapter*\n",
    "\n",
    "### (i) *Objective and contents*\n",
    "\n",
    "This document contains the code for MDx sequence for the 24 well xxplate. On top of that, it also provides guides, tutorials, and examples to assist the user in using the Opentrons OT2 for the purpose of the xxpress machine by BJS Biotechnologies. To see the full sequence for the 24 well plate without markdowns, search for a file titled '24 well xxplate (video sequence)'. In this example, only 4 DNA samples were utilised, this is due to the limitations of the heating block only being able to accomodate 4 vials at a time.\n",
    "\n",
    "### (ii) *Opentrons Python API Documentation*\n",
    "\n",
    "Before continuing with the notebook, it is recommended that the documentation on the Python API for the Opentrons OT2 robot is read. The information available on the document would help the reader understand this notebook better.\n",
    "\n",
    "The document can be found here: https://docs.opentrons.com/index.html\n",
    "\n",
    "Although it is recommended to read the entire document, the main sections of the document to be read are:\n",
    "1. Labware                  (https://docs.opentrons.com/labware.html)\n",
    "2. Creating a pipette       (https://docs.opentrons.com/pipettes.html)\n",
    "3. Atomic liquid handling   (https://docs.opentrons.com/atomic%20commands.html)"
   ]
  },
  {
   "cell_type": "markdown",
   "metadata": {},
   "source": [
    "\n",
    "***\n",
    "\n",
    "\n",
    "## 1. *Preparing the robot for the MDx Sequence*"
   ]
  },
  {
   "cell_type": "markdown",
   "metadata": {},
   "source": [
    "### (i) *Connecting the code to the robot's hardware*\n",
    "\n",
    "Run the cell below to connect the current notebook to the robot's hardware. The cell should only be run once upon starting the robot or restarting the kernel. Running the code twice will result in errors."
   ]
  },
  {
   "cell_type": "code",
   "execution_count": null,
   "metadata": {},
   "outputs": [],
   "source": [
    "# THIS CODE SHOULD ONLY BE RUN ONCE UPON STARTING THE ROBOT / RESTARTING THE KERNEL\n",
    "from opentrons import robot\n",
    "robot.connect()"
   ]
  },
  {
   "cell_type": "markdown",
   "metadata": {},
   "source": [
    "### (ii) *Resetting the robot and clearing command history*\n",
    "\n",
    "Run the cell below to clear command history and reset the robot."
   ]
  },
  {
   "cell_type": "code",
   "execution_count": null,
   "metadata": {},
   "outputs": [],
   "source": [
    "from opentrons import robot\n",
    "robot.clear_commands()          #Clears command history\n",
    "robot.reset()                   #Resets the robot\n",
    "\n",
    "#Running this cell twice in a row will cause errors"
   ]
  },
  {
   "cell_type": "markdown",
   "metadata": {},
   "source": [
    "These two commands are typically used when a new process is required. On Opentron, new commands are dependent on all the commands executed prior to the new command. Hence, the function"
   ]
  },
  {
   "cell_type": "raw",
   "metadata": {},
   "source": [
    "robot.clear_commands()"
   ]
  },
  {
   "cell_type": "markdown",
   "metadata": {},
   "source": [
    "is useful for when the user wants to execute a command independent of the previous commands. For example, a tip has been picked up by the pipette from well 'A1'. Let's say you manually remove the tip and place it back by hand into well 'A1'. If you command the robot to pick up a tip from well 'A1', the robot will return an error as its command history shows that a tip is already placed on the pipette and/or a tip has already been taken from well 'A1'. Hence, clearing the command history will allow you to pick up a tip from 'A1' again."
   ]
  },
  {
   "cell_type": "raw",
   "metadata": {},
   "source": [
    "robot.reset()"
   ]
  },
  {
   "cell_type": "markdown",
   "metadata": {},
   "source": [
    "Resetting the robot will clear of all the labware and instruments that has been loaded into the robot. This is a necesarry step to take when the user wishes to change the labware or position of the labware. The new set or position of the labware and instruments should then be loaded again."
   ]
  },
  {
   "cell_type": "markdown",
   "metadata": {},
   "source": [
    "### (iii) *Loading the labware and instruments*\n",
    "\n",
    "Run the cell below to load all labware and instruments into the robot. This should be the first cell of code the user will execute after connecting the code to the robot's hardware."
   ]
  },
  {
   "cell_type": "code",
   "execution_count": null,
   "metadata": {},
   "outputs": [],
   "source": [
    "from opentrons import instruments, robot, labware\n",
    "\n",
    "# labware and instruments involved\n",
    "tiprack10 = labware.load('tiprack-10ul','4')             #10ul tip rack\n",
    "tiprack300 = labware.load('opentrons-tiprack-300ul','1')  #300ul tip rack\n",
    "\n",
    "pipette1 = instruments.P10_Single(mount='left')           #assign 10ul tip to left mount\n",
    "pipette2 = instruments.P300_Single(mount='right')         #assign 300ul tip to right mount\n",
    "\n",
    "vialrack1 = labware.load('BJS_vialrack','2')             #BJS vial rack\n",
    "sample = labware.load('trough-12row','6')                 #12 row trough\n",
    "xxplate = labware.load('xxpress_24well','3')              #24 well xxplate\n",
    "vialrack2 = labware.load('Micronic_vialrack','7')         #Micronic vial rack\n",
    "heatingblock = labware.load('heating_block','5')          #Heating block\n",
    "vialrack3 = labware.load('Micronic_vialrack','8')"
   ]
  },
  {
   "cell_type": "markdown",
   "metadata": {},
   "source": [
    "To load the labware, the user would have to use the function that takes the following format:"
   ]
  },
  {
   "cell_type": "raw",
   "metadata": {},
   "source": [
    "variable_name = labware.load('labware_name','slot')"
   ]
  },
  {
   "cell_type": "markdown",
   "metadata": {},
   "source": [
    "The slots available are slots 1 to 11 as seen on the deck of the robot. The slot on the top right is reserved for trash. To see the full list of labware equipments and their names, run the following code:"
   ]
  },
  {
   "cell_type": "code",
   "execution_count": null,
   "metadata": {},
   "outputs": [],
   "source": [
    "from opentrons import labware\n",
    "labware.list()"
   ]
  },
  {
   "cell_type": "markdown",
   "metadata": {},
   "source": [
    "Loading instruments such as pipette uses the following format:"
   ]
  },
  {
   "cell_type": "raw",
   "metadata": {},
   "source": [
    "variable_name = instruments.pipette_name(mount='left/right')"
   ]
  },
  {
   "cell_type": "markdown",
   "metadata": {},
   "source": [
    "The pipette names can be found on the labware list as well. The left and right mount are reserved for a group of tip sizes. In  this case, the left mount, which is the smaller mount, is reserved for a 10ul pipette tip where as the right mount is reserved for a 300ul tip."
   ]
  },
  {
   "cell_type": "markdown",
   "metadata": {},
   "source": [
    "**Notes:**\n",
    "* Only rows B and C (B1-B12, C1-C12) of the 300ul tiprack by GEB can be used. This is because Opentrons has their own 300ul tiprack which has different dimensions. Because of the way the hardware and software of the robot interacts with a tiprack, we are unable to create our own tiprack.\n",
    "* Only wells A1, A2, B1 and B2 of the heating block can be used. This is due the heating block being hand made and asymmetrical. Other wells can be accessed by tweaking the offset coordinate values by trial and error. This step is explained further in 4. Creating custom labwares, commands, and procedures.\n",
    "* All custom labwares should use custom functions that accomodates for the offset instead of using basic Opentrons functions.For example, use fill_xxplate('A1', 5, '10') instead of pipette10.dispense(5, plate.wells('A1')). This is further explained in the following step 1.(iv) Defining functions and 4.(i) Creating custom commands.\n",
    "* In this notebook, from chapter 1 to 5 all examples uses the xxplate with **24 wells**. The functions for the xxplate with 54 wells and 96 wells can be found in chapter 6."
   ]
  },
  {
   "cell_type": "markdown",
   "metadata": {},
   "source": [
    "### (iv) *Definining functions*\n",
    "\n",
    "\n",
    "Since custom labwares are used for the MDx sequence, custom functions have to be defined to be used together with these custom labwares. There are 3 functions defined, each of which is a way to interact with a well of the xxplate or a BJS vial. The 5 functions and its purpose are:"
   ]
  },
  {
   "cell_type": "raw",
   "metadata": {},
   "source": [
    "fill_xxplate(well, vol, tip)      - dispense a specified volume into a specified well of the xxplate\n",
    "fill_BJSvial (well, vol, tip)     - dispense a specified volume into a specified vial from the BJS vial rack\n",
    "extract_BJSvial(well, vol, tip)   - aspirate a specified volume from a specified vial from the BJS vial rack\n",
    "fill_micronic(well, vol, tip)     - dispense a specified volume into a specified vial from the Micronic vial rack\n",
    "extract_micronic(well, vol)       - aspirate a specified volume from a specified vial from the Micronic vial rack"
   ]
  },
  {
   "cell_type": "markdown",
   "metadata": {},
   "source": [
    "Each of these functions consist of three arguments that has to be satisfied."
   ]
  },
  {
   "cell_type": "raw",
   "metadata": {},
   "source": [
    "well  - The well you wish to associate the function with\n",
    "vol   - The volume of liquid you wish to dispence/aspirate into the well/vial\n",
    "tip   - The tip size you are using which is either '10' for a 10ul tip or '300' for a 300ul tip"
   ]
  },
  {
   "cell_type": "markdown",
   "metadata": {},
   "source": [
    "e.g - To fill well D6 of the xxplate by 5ul using a 10ul tip, you would write"
   ]
  },
  {
   "cell_type": "raw",
   "metadata": {},
   "source": [
    "fill_xxplate('D6', 5, '10')"
   ]
  },
  {
   "cell_type": "markdown",
   "metadata": {},
   "source": [
    "Run the following cell the define the functions required to execute the sequences."
   ]
  },
  {
   "cell_type": "code",
   "execution_count": null,
   "metadata": {},
   "outputs": [],
   "source": [
    "#######################################################################\n",
    "\n",
    "# Function to fill xxplate\n",
    "def fill_xxplate(well, vol, tip):\n",
    "    if tip == '10':\n",
    "        offset = xxplate.wells('A1').from_center(x=15.2,y=10,z=0.2)            #offset of the custom labware\n",
    "        destination = (xxplate.wells(well), offset)                            #destination for the pipette (specified well)\n",
    "        pipette1.move_to(destination, strategy='arc')                          #move pipette to destination\n",
    "        pipette1.dispense(vol)                                                 #dispense specified volume into well\n",
    "        print(well, 'has been filled by', vol, 'ul')\n",
    "    elif tip == '300':\n",
    "        if vol < 81:\n",
    "            offset = xxplate.wells('A1').from_center(x=15.9,y=8.9,z=0.2)        #offset of the custom labware\n",
    "            destination = (xxplate.wells(well), offset)                         #destination for the pipette (specified well)\n",
    "            pipette2.move_to(destination, strategy='arc')                       #move pipette to destination\n",
    "            pipette2.dispense(vol)                                              #dispense specified volume into well\n",
    "            print(well, 'has been filled by', vol, 'ul')\n",
    "        else:\n",
    "            print('Well is not able to hold the specified volume.')\n",
    "    else:\n",
    "        print('Please select a valid tip(\\'10\\',\\'300\\')')\n",
    "    return\n",
    "\n",
    "#######################################################################\n",
    "\n",
    "# Function to fill a vial on the BJS vial rack\n",
    "def fill_BJSvial(well, vol, tip):\n",
    "    if tip == '10':\n",
    "        if vol < 11:                                                        \n",
    "            offset = vialrack1.wells('A1').from_center(x=3.2,y=1.5,z=0)     #offset of the custom labware\n",
    "            destination = (vialrack1.wells(well), offset)                   #destination for the pipette (specified well)\n",
    "            pipette1.move_to(destination, strategy='arc')                   #move pipette to destination\n",
    "            pipette1.dispense(vol)                                          #dispense specified volume into vial\n",
    "            print(well, 'has been filled by', vol, 'ul')\n",
    "        else:\n",
    "            print('Tip is not able to hold the liquid volume specified.')\n",
    "    elif tip == '300':\n",
    "        if vol < 301:\n",
    "            offset = vialrack1.wells('A1').from_center(x=3.75,y=0.8,z=0)    #offset of the custom labware\n",
    "            destination = (vialrack1.wells(well), offset)                   #destination for the pipette (specified well)\n",
    "            pipette2.move_to(destination, strategy='arc')                   #move pipette to destination\n",
    "            pipette2.dispense(vol)                                          #dispense specified volume into vial\n",
    "            print(well, 'has been filled by', vol, 'ul')\n",
    "        else:\n",
    "            print('Tip is not able to hold the liquid volume specified.')\n",
    "    else:\n",
    "        print('Please specify a valid tip (\\'10\\',\\'300\\')')\n",
    "    return\n",
    "\n",
    "#######################################################################\n",
    "\n",
    "# Function to extract from a vial on the BJS vial rack\n",
    "def extract_BJSvial(well, vol, tip):\n",
    "    if tip == '10':\n",
    "        if vol < 11:\n",
    "            offset = vialrack1.wells('A1').from_center(x=3.2,y=1.5,z=-0.8)  #offset of the custom labware\n",
    "            destination = (vialrack1.wells(well), offset)                   #destination for the pipette (specified well)\n",
    "            pipette1.move_to(destination, strategy='arc')                   #move pipette to destination\n",
    "            pipette1.aspirate(vol)                                          #extract specified volume from vial\n",
    "            print(vol, 'ul has been extracted from', well)\n",
    "        else:\n",
    "            print('Volume to be extracted is greater than tip size. Please select a lower volume or a different tip')\n",
    "    elif tip == '300':\n",
    "        if vol < 301:\n",
    "            offset = vialrack1.wells('A1').from_center(x=3.75,y=0.8,z=-0.8) #offset of the custom labware\n",
    "            destination = (vialrack1.wells(well), offset)                   #destination for the pipette (specified well)\n",
    "            pipette2.move_to(destination, strategy='arc')                   #move pipette to destination\n",
    "            pipette2.aspirate(vol)                                          #extract specified volume from vial\n",
    "            print(vol, 'ul has been extracted from', well)\n",
    "        else:\n",
    "            print('Volume to be extracted is greater than tip size. Please select a lower volume')\n",
    "    else:\n",
    "        print('Please specify a valid tip (\\'10\\',\\'300\\')')        \n",
    "    return\n",
    "\n",
    "#######################################################################\n",
    "\n",
    "# Function to fill a vial on the Micronic vial rack\n",
    "def fill_micronic(well, vol, tip):\n",
    "    if tip == '10':\n",
    "        offset = vialrack2.wells('A1').from_center(x=3.3,y=3.0,z=0.0)    #10ul tip\n",
    "        destination = (vialrack2.wells(well), offset)\n",
    "        pipette1.move_to(destination, strategy='arc')\n",
    "        pipette1.dispense(vol)\n",
    "        print(well, 'has been filled by', vol, 'ul')\n",
    "    elif tip == '300':\n",
    "        offset = vialrack2.wells('A1').from_center(x=3.8,y=2.3,z=0.0)    #300ul tip\n",
    "        destination = (vialrack2.wells(well), offset)\n",
    "        pipette2.move_to(destination, strategy='arc')\n",
    "        pipette2.dispense(vol)\n",
    "        print(well, 'has been filled by', vol, 'ul')\n",
    "    return\n",
    "\n",
    "#######################################################################\n",
    "\n",
    "# Function to extract from a vial on the Micronic vial rack\n",
    "def extract_micronic(well,vol):\n",
    "    offset = vialrack3.wells('A1').from_center(x=3.8,y=2.3,z=-0.7)    #300ul tip\n",
    "    destination = (vialrack3.wells(well), offset)\n",
    "    pipette2.move_to(destination, strategy='arc')\n",
    "    pipette2.aspirate(vol)\n",
    "    print(vol, 'ul has been extracted from', well)\n",
    "    return\n",
    "\n",
    "#######################################################################\n"
   ]
  },
  {
   "cell_type": "markdown",
   "metadata": {},
   "source": [
    "\n",
    "***\n",
    "\n",
    "## 2. *Components of the MDx Sequence*\n",
    "\n",
    "The MDx procedure consist of 5 sequences that takes place in the following order. The 5 sequences are:\n",
    "\n",
    "1. DNA Sample Extraction\n",
    "2. Transporting Vials\n",
    "3. Rehydration Buffer\n",
    "4. Preload Control\n",
    "5. Supernatant Extraction\n"
   ]
  },
  {
   "cell_type": "markdown",
   "metadata": {},
   "source": [
    "### (i) *DNA Sample Extraction Sequence*\n",
    "\n",
    "This process transfers 40ul of liquid from a micronic vial rack cotnaining the DNA sample to a micronic vial rack containing the extraction buffer."
   ]
  },
  {
   "cell_type": "code",
   "execution_count": null,
   "metadata": {},
   "outputs": [],
   "source": [
    "%%time\n",
    "\n",
    "vol = 40\n",
    "rows = ['A','B','C','D']\n",
    "int = 1\n",
    "for r in rows:\n",
    "    tip = 'B' + str(int)\n",
    "    well_aspirate = r + '1'\n",
    "    well_dispense = r + '12'\n",
    "    pipette2.pick_up_tip(tiprack300.wells(tip))\n",
    "    extract_micronic(well_aspirate, vol)\n",
    "    fill_micronic(well_dispense, vol, '300')\n",
    "    pipette2.drop_tip()\n",
    "    int += 1"
   ]
  },
  {
   "cell_type": "markdown",
   "metadata": {},
   "source": [
    "### (ii) *Transporting Vials*\n",
    "\n",
    "This section consist of two steps; transferring vials from a Micronic vial rack to the heating block, and from the heating block to the BJS vial rack. It uses an adaptor that utilises a horizontal force to attach and detach from the vials.\n",
    "\n",
    "**NOTE**: For this process, the robot has to pick up a 'virtual' 10ul pipette tip"
   ]
  },
  {
   "cell_type": "code",
   "execution_count": null,
   "metadata": {},
   "outputs": [],
   "source": [
    "%%time\n",
    "\n",
    "micronic2heater('A12', 'B2')\n",
    "micronic2heater('B12', 'A2')\n",
    "micronic2heater('C12', 'B1')\n",
    "micronic2heater('D12', 'A1')"
   ]
  },
  {
   "cell_type": "code",
   "execution_count": null,
   "metadata": {},
   "outputs": [],
   "source": [
    "%%time\n",
    "\n",
    "heater2vialrack('B2','A12')\n",
    "heater2vialrack('A2','C12')\n",
    "heater2vialrack('B1','E12')\n",
    "heater2vialrack('A1','G12')\n",
    "\n",
    "pipette1.drop_tip()"
   ]
  },
  {
   "cell_type": "markdown",
   "metadata": {},
   "source": [
    "### (iii) *Rehydration Buffer Sequence*\n",
    "\n",
    "This process uses a 300ul tip. Since the same solution will be dispensed into every well, a single pipette can be used. The code is time optimised by reducing the number of movements the robot would have to make depending on the volume specified by the user. It utilises for loops to iterate over all rows and columns of the xxplate."
   ]
  },
  {
   "cell_type": "code",
   "execution_count": null,
   "metadata": {},
   "outputs": [],
   "source": [
    "def buffer_sequence(vol):\n",
    "    if 0<vol<26:                                                 #FOR THE CASE WHEN VOL IS 1 - 25\n",
    "        to_extract = vol*12                                      #aspirate 12 times of the specified\n",
    "        pipette2.aspirate(to_extract, sample.wells('A1'))        #aspirate\n",
    "        rows = ['A','B']                                         #rows to fill first\n",
    "        for r in rows:                                           #iterate over row and columns\n",
    "            for c in range (1,7):\n",
    "                well = r + str(c)                                #define well\n",
    "                fill_xxplate(well, vol, '300')                   #fill xxplate\n",
    "        rows = ['C','D']                                         #next rows to fill\n",
    "        pipette2.aspirate(to_extract, sample.wells('A1'))        #aspirate\n",
    "        for r in rows:                                           #iterate over rows and columns\n",
    "            for c in range (1,7):\n",
    "                well = r + str(c)                                #define well\n",
    "                fill_xxplate(well, vol, '300')                   #fill xxplate\n",
    "    elif 25<vol<51:                                              #FOR THE CASE WHEN VOL IS 26 - 50\n",
    "        to_extract = vol*6\n",
    "        rows = ['A','B','C','D']\n",
    "        for r in rows:\n",
    "            pipette2.aspirate(to_extract, sample.wells('A1'))\n",
    "            for c in range (1,7):\n",
    "                well = r + str(c)\n",
    "                fill_xxplate(well, vol, '300')\n",
    "    elif 50<vol<81:                                              #FOR THE CASE WHEN VOL IS 51 - 80\n",
    "        to_extract = vol*3\n",
    "        rows = ['A','B','C','D']\n",
    "        for r in rows:\n",
    "            pipette2.aspirate(to_extract, sample.wells('A1'))\n",
    "            for c in range(1,4):\n",
    "                well = r + str(c)\n",
    "                fill_xxplate(well, vol, '300')\n",
    "            pipette2.aspirate(to_extract, sample.wells('A1'))\n",
    "            for c in range (4,7):\n",
    "                well = r + str(c)\n",
    "                fill_xxplate(well, vol, '300')\n",
    "    else:\n",
    "        print('Please specifiy a volume between 1ul and 80ul')\n",
    "    return"
   ]
  },
  {
   "cell_type": "code",
   "execution_count": null,
   "metadata": {},
   "outputs": [],
   "source": [
    "%%time\n",
    "\n",
    "pipette2.pick_up_tip(tiprack300.wells('C1'))   #Pick up tip\n",
    "buffer_sequence(25)                            #Call the function to start the sequence\n",
    "pipette2.drop_tip()                            #Drop the tip"
   ]
  },
  {
   "cell_type": "markdown",
   "metadata": {},
   "source": [
    "### (iv) *Preload Control Sequence*\n",
    "\n",
    "This step uses a 300ul tip to fill the xxplate with 3 types of preload control; a positive, a negative, and a zero. With each preload control a different tip is used. Each preload control will occupy two columns on the xxplate."
   ]
  },
  {
   "cell_type": "code",
   "execution_count": null,
   "metadata": {},
   "outputs": [],
   "source": [
    "vol = 20\n",
    "rows = ['A','B','C','D']\n",
    "init = 1\n",
    "\n",
    "pipette2.pick_up_tip(tiprack300.wells('B6'))\n",
    "pipette2.aspirate(vol*8, sample.wells('A2'))\n",
    "for r in rows:\n",
    "    well = r + str(init)\n",
    "    fill_xxplate(well, vol, '300')\n",
    "    well2 = r + str(init+1)\n",
    "    fill_xxplate(well2, vol, '300')\n",
    "        \n",
    "pipette2.drop_tip()\n",
    "\n",
    "init = 3\n",
    "\n",
    "pipette2.pick_up_tip(tiprack300.wells('B7'))\n",
    "pipette2.aspirate(vol*8, sample.wells('A3'))\n",
    "for r in rows:\n",
    "    well = r + str(init)\n",
    "    fill_xxplate(well, vol, '300')\n",
    "    well2 = r + str(init+1)\n",
    "    fill_xxplate(well2, vol, '300')\n",
    "        \n",
    "pipette2.drop_tip()\n",
    "\n",
    "init = 5\n",
    "\n",
    "pipette2.pick_up_tip(tiprack300.wells('B8'))\n",
    "pipette2.aspirate(vol*8, sample.wells('A4'))\n",
    "for r in rows:\n",
    "    well = r + str(init)\n",
    "    fill_xxplate(well, vol, '300')\n",
    "    well2 = r + str(init+1)\n",
    "    fill_xxplate(well2, vol, '300')\n",
    "        \n",
    "pipette2.drop_tip()"
   ]
  },
  {
   "cell_type": "markdown",
   "metadata": {},
   "source": [
    "### (v) *Supernatant Extraction Sequence Test*\n",
    "\n",
    "This process uses a 300ul tip to extract from each of the 4 DNA samples to spread across the xxplate. Each row of the xxplate contains each of the DNA samples."
   ]
  },
  {
   "cell_type": "code",
   "execution_count": null,
   "metadata": {},
   "outputs": [],
   "source": [
    "vol = 6\n",
    "rows_xx = ['A','B','C','D']\n",
    "rows = ['A','C','E','G']\n",
    "init = 9\n",
    "for i in range (0,4):\n",
    "    tip = 'B' + str(init)\n",
    "    pipette2.pick_up_tip(tiprack300.wells(tip))\n",
    "    well_aspirate = rows[i] + '12'\n",
    "    extract_BJSvial(well_aspirate, vol*6, '300')\n",
    "    for n in range (1,7):\n",
    "        well_dispense = rows_xx[i] + str(n)\n",
    "        fill_xxplate(well_dispense, vol, '300')\n",
    "    pipette2.drop_tip()\n",
    "    init += 1"
   ]
  },
  {
   "cell_type": "markdown",
   "metadata": {},
   "source": [
    "\n",
    "________________________________________________________________________________________________________________________________\n",
    "\n",
    "\n",
    "## 3. *Full Procedure Test and Algorithm*\n",
    "\n",
    "The full procedure is a compilation of all 5 sequences of the MDx. The structure of the full procedure is as shown in the cell below. Running the cell would run the full sequence."
   ]
  },
  {
   "cell_type": "code",
   "execution_count": null,
   "metadata": {},
   "outputs": [],
   "source": [
    "%%time\n",
    "\n",
    "# DNA SAMPLE SEQUENCE (uses tips B1 to B12 - 300ul)\n",
    "DNAsample_sequence(100)\n",
    "\n",
    "pipette1.pick_up_tip(tiprack10.wells('H11'))    #pick up virtual pipette\n",
    "\n",
    "pipette1.delay(seconds = 10)  # ATTACH THE ADAPTOR DURING THE 10s DELAY\n",
    "\n",
    "\n",
    "# DNA Extraction\n",
    "rows = ['A','B','C','D']\n",
    "int = 1\n",
    "for r in rows:\n",
    "    tip = 'B' + str(int)\n",
    "    well_aspirate = r + '1'\n",
    "    well_dispense = r + '12'\n",
    "    pipette2.pick_up_tip(tiprack300.wells(tip))\n",
    "    extract_micronic(well_aspirate, 40)\n",
    "    fill_micronic(well_dispense, 40, '300')\n",
    "    pipette2.drop_tip()\n",
    "    int += 1\n",
    "\n",
    "#Transfer vials from micronic vial rack to heating block    \n",
    "micronic2heater('A12', 'B2')\n",
    "micronic2heater('B12', 'A2')\n",
    "micronic2heater('C12', 'B1')\n",
    "micronic2heater('D12', 'A1')\n",
    "\n",
    "#Rehydration Buffer\n",
    "pipette2.pick_up_tip(tiprack300.wells('B5'))\n",
    "buffer_sequence(25)\n",
    "pipette2.drop_tip()\n",
    "\n",
    "#Preload control\n",
    "vol = 20\n",
    "rows = ['A','B','C','D']\n",
    "init = 1\n",
    "\n",
    "pipette2.pick_up_tip(tiprack300.wells('B6'))\n",
    "pipette2.aspirate(vol*8, sample.wells('A2'))\n",
    "for r in rows:\n",
    "    well = r + str(init)\n",
    "    fill_xxplate(well, vol, '300')\n",
    "    well2 = r + str(init+1)\n",
    "    fill_xxplate(well2, vol, '300')\n",
    "        \n",
    "pipette2.drop_tip()\n",
    "\n",
    "init = 3\n",
    "\n",
    "pipette2.pick_up_tip(tiprack300.wells('B7'))\n",
    "pipette2.aspirate(vol*8, sample.wells('A3'))\n",
    "for r in rows:\n",
    "    well = r + str(init)\n",
    "    fill_xxplate(well, vol, '300')\n",
    "    well2 = r + str(init+1)\n",
    "    fill_xxplate(well2, vol, '300')\n",
    "        \n",
    "pipette2.drop_tip()\n",
    "\n",
    "init = 5\n",
    "\n",
    "pipette2.pick_up_tip(tiprack300.wells('B8'))\n",
    "pipette2.aspirate(vol*8, sample.wells('A4'))\n",
    "for r in rows:\n",
    "    well = r + str(init)\n",
    "    fill_xxplate(well, vol, '300')\n",
    "    well2 = r + str(init+1)\n",
    "    fill_xxplate(well2, vol, '300')\n",
    "        \n",
    "pipette2.drop_tip()\n",
    "\n",
    "#Transfer vials from heating block to vial rack\n",
    "heater2vialrack('B2','A12')\n",
    "heater2vialrack('A2','C12')\n",
    "heater2vialrack('B1','E12')\n",
    "heater2vialrack('A1','G12')\n",
    "\n",
    "#Supernatant\n",
    "vol = 6\n",
    "rows_xx = ['A','B','C','D']\n",
    "rows = ['A','C','E','G']\n",
    "init = 9\n",
    "for i in range (0,4):\n",
    "    tip = 'B' + str(init)\n",
    "    pipette2.pick_up_tip(tiprack300.wells(tip))\n",
    "    well_aspirate = rows[i] + '12'\n",
    "    extract_BJSvial(well_aspirate, vol*6, '300')\n",
    "    for n in range (1,7):\n",
    "        well_dispense = rows_xx[i] + str(n)\n",
    "        fill_xxplate(well_dispense, vol, '300')\n",
    "    pipette2.drop_tip()\n",
    "    init += 1\n",
    "\n",
    "robot.home()"
   ]
  },
  {
   "cell_type": "markdown",
   "metadata": {},
   "source": [
    "The algorithm to run the MDx procedure is as follows:\n",
    "\n",
    "1. Connect the code to the robot\n",
    "2. Load the labware and instruments\n",
    "3. Define the functions (e.g - fill_xxplate() )\n",
    "4. Call the sequence functions in the order you would like them to take place\n",
    "5. Home the robot\n",
    "6. Clear commands and reset history to prepare for next sequence\n",
    "\n",
    "To see the full code without markdown cells, search for a notebook titled '24 well Sequence' in the robot's Jupyter Notebook."
   ]
  },
  {
   "cell_type": "markdown",
   "metadata": {},
   "source": [
    "\n",
    "\n",
    "***\n",
    "\n",
    "\n",
    "## 4. *Creating custom labwares, commands, and procedure*\n",
    "\n",
    "This section focuses on helping the user creating their own sequences and labwares."
   ]
  },
  {
   "cell_type": "markdown",
   "metadata": {},
   "source": [
    "### *Making custom labwares*\n",
    "\n",
    "To make custom labwares, the user will have to call the labware.create() function. The if statement is to ensure a labwares with the same name are not repeated within the labware list. The official document to making custom labwares can be found here: https://docs.opentrons.com/labware.html "
   ]
  },
  {
   "cell_type": "code",
   "execution_count": null,
   "metadata": {},
   "outputs": [],
   "source": [
    "plate_name = 'BJS_vialrack'\n",
    "if plate_name not in labware.list():\n",
    "    custom_plate = labware.create(\n",
    "        plate_name,\n",
    "        grid = (12,8),\n",
    "        spacing = (9.1,9.3),\n",
    "        diameter = 6.4,\n",
    "        depth = 42,\n",
    "        volume = 1100)\n",
    "else:\n",
    "    print('Custom labware failed to create. Labware name is already in the labware list.')"
   ]
  },
  {
   "cell_type": "markdown",
   "metadata": {},
   "source": [
    "The function contains 6 arguments that we need to satisfy. The arguments are shown below."
   ]
  },
  {
   "cell_type": "raw",
   "metadata": {},
   "source": [
    "plate_name    - any name for the labware with no spaces\n",
    "grid          - grid of the labware\n",
    "spacing       - distance between the centre of every well in the x and y direction in mm\n",
    "diameter      - internal diameter of the well in mm\n",
    "depth         - height of the labware in mm\n",
    "volume        - maximum volume the labware will be able to contain in ul"
   ]
  },
  {
   "cell_type": "markdown",
   "metadata": {},
   "source": [
    "To check if the labware has been succesfully created. Run the following code to check the list of labwares. The labware name should be in the list."
   ]
  },
  {
   "cell_type": "code",
   "execution_count": null,
   "metadata": {},
   "outputs": [],
   "source": [
    "from opentrons import labware\n",
    "labware.list"
   ]
  },
  {
   "cell_type": "markdown",
   "metadata": {},
   "source": [
    "To delete a custom labware from the list, run the following code. Be careful when deleting labwares as **all** measurements will be lost. Make a note of the measurements before deleteing."
   ]
  },
  {
   "cell_type": "code",
   "execution_count": null,
   "metadata": {},
   "outputs": [],
   "source": [
    "from opentrons.data_storage import database\n",
    "database.delete_container('labware_name')"
   ]
  },
  {
   "cell_type": "markdown",
   "metadata": {},
   "source": [
    "### *Making custom commands*\n",
    "\n",
    "To make custom commands for a custom labware. We have to consider the offset of the labware equipment. The offset is the distance between the bottom left corner of the labware with the most bottom left well of the labware. Unfortunately, when using the labware.create() function, we are not able to define an offset. Hence, the robot assumes an offset for us. This offset tends to be wrong. We may fix this by considering the offset in our custom commands."
   ]
  },
  {
   "cell_type": "code",
   "execution_count": null,
   "metadata": {},
   "outputs": [],
   "source": [
    "#EXAMPLE CODE\n",
    "def custom_command(well, volume):\n",
    "    offset = custom_labware.wells('A1').from_center(x = 2, y = 2, z = 2) # Consider the offset (obtained by trial & error)\n",
    "    destination = (custom_labware.wells(well), offset)                   # Set destination = well to visit + offset\n",
    "    pipette.move_to(destination, strategy = 'arc')                       # Move to destination using an 'arc' strategy\n",
    "    pipette.dispense(volume)                                             # Dispense\n",
    "    return"
   ]
  },
  {
   "cell_type": "markdown",
   "metadata": {},
   "source": [
    "The function defined above is tasked to move to a defined well on a custom labware to dispense a specified volume. The offset is obtained by manually adjusting the x, y, z values and observing the position of the pipette on the physical labware.\n",
    "\n",
    "**NOTE**: When adjusting x, y, z values, it is advised to use a positive z value (e.g - z = 2) to ensure it does not collide with anything on the labware deck.\n",
    "\n",
    "The destination is then set to the well + the offset, which should be the actual position of your well on the labware. The next command instructs the pipette to move to the destination. And the next command dispenses a defined volume of liquid from its current position."
   ]
  },
  {
   "cell_type": "markdown",
   "metadata": {},
   "source": [
    "### *Making custom sequences and procedures*\n",
    "\n",
    "Custom procedures are requried to automate a process. There are two main ways to create a procedure:"
   ]
  },
  {
   "cell_type": "raw",
   "metadata": {},
   "source": [
    "1. Sequential   - calling functions in a sequential order\n",
    "2. Looping      - utilising loops to iterate over a set of wells"
   ]
  },
  {
   "cell_type": "markdown",
   "metadata": {},
   "source": [
    "**NOTE:** When testing your sequences, it is best to use print() before using the physical functions. This helps avoid any accidents and ensure you are confident with executing your sequence."
   ]
  },
  {
   "cell_type": "code",
   "execution_count": null,
   "metadata": {},
   "outputs": [],
   "source": [
    "#EXAMPLE 1 - Sequential\n",
    "def sequential(vol):\n",
    "    print('Pick up tip A1')\n",
    "    print('Extract', vol, 'ul from sample A1')\n",
    "    print('Dispense', vol, 'ul in vial A1')\n",
    "    print('Drop tip')\n",
    "    print('Pick up tip A2')\n",
    "    print('Extract', vol, 'ul from sample A1')\n",
    "    print('Dispense', vol, 'ul in vial A2')\n",
    "    print('Drop tip')\n",
    "    print('Pick up tip B1')\n",
    "    print('Extract', vol, 'ul from sample A1')\n",
    "    print('Dispense', vol, 'ul in vial B1')\n",
    "    print('Drop tip')\n",
    "    print('Pick up tip B2')\n",
    "    print('Extract', vol, 'ul from sample A1')\n",
    "    print('Dispense', vol, 'ul in vial B2')\n",
    "    print('Drop tip')\n",
    "    return\n",
    "\n",
    "sequential(10)"
   ]
  },
  {
   "cell_type": "code",
   "execution_count": null,
   "metadata": {},
   "outputs": [],
   "source": [
    "#EXAMPLE 2 - Looping\n",
    "\n",
    "def looping(rows, cols, vol):\n",
    "    init = 1\n",
    "    tiprow = 'A'\n",
    "    for r in rows:\n",
    "        for c in range(1, cols+1):\n",
    "            tip = tiprow + str(init)\n",
    "            vial = r + str(c)\n",
    "            print('Pick up tip', tip)\n",
    "            print('Extract', vol, 'ul from sample A1')\n",
    "            print('Dispense', vol, 'ul in vial', vial)\n",
    "            print('Drop tip')\n",
    "            init += 1\n",
    "            if init == 3:\n",
    "                init = 1\n",
    "                tiprow = 'B'\n",
    "    return\n",
    "\n",
    "looping(['A','B'], 2, 10)"
   ]
  },
  {
   "cell_type": "markdown",
   "metadata": {},
   "source": [
    "From examples 1 and 2, we can see that both produces similar results. The sequential example has more flexiblity and is simpler to understand, however, the looping example is far more scalable and efficient. \n",
    "\n",
    "For the looping sequence, if the user wish to increase the number of rows, the user would have to simply add more rows and columns into the argument. The other would require you to add more lines of code and make a change to each line. The sequential sequence has the advantage of flexibility and simplicity. For example, if the user wishes to fill wells that are in a random order (e.g - A1, B4, C2, D6), the sequential structure would be easier to program in this case. \n",
    "\n",
    "All in all, both produces the same results. Which structure the user wishes to adapt depends on the process and the capabilities of the user."
   ]
  },
  {
   "cell_type": "markdown",
   "metadata": {},
   "source": [
    "\n",
    "\n",
    "________________________________________________________________________________________________________________________________\n",
    "\n",
    "\n",
    "## 5. *Examples, tests, and common loops*\n",
    "\n",
    "Below are some examples and test that the user can use to learn from. It also contains some common loops. This helps to show how to use for loops to iterate over the grid of the labware."
   ]
  },
  {
   "cell_type": "markdown",
   "metadata": {},
   "source": [
    "### (i) *Filling one well of the xxplate*"
   ]
  },
  {
   "cell_type": "code",
   "execution_count": null,
   "metadata": {},
   "outputs": [],
   "source": [
    "pipette1.pick_up_tip(tiprack10.wells('A1'))   #pick up a 10ul tip\n",
    "pipette1.aspirate(10, sample.wells('A1'))     #extract 10ul from sample\n",
    "fill_xxplate('A1', 10, '10')                  #fill specified well on xxplate by a specified volume\n",
    "pipette1.drop_tip()                           #drop tip in the trash"
   ]
  },
  {
   "cell_type": "markdown",
   "metadata": {},
   "source": [
    "### (ii) *Filling one vial on the BJS vial rack*"
   ]
  },
  {
   "cell_type": "code",
   "execution_count": null,
   "metadata": {},
   "outputs": [],
   "source": [
    "pipette1.pick_up_tip(tiprack10.wells('A2'))\n",
    "pipette1.aspirate(10, sample.wells('A2'))\n",
    "fill_BJSvial('A1', 10, '10')\n",
    "pipette1.drop_tip()"
   ]
  },
  {
   "cell_type": "markdown",
   "metadata": {},
   "source": [
    "### (iii) *Extracting from one vial on the BJS vial rack*"
   ]
  },
  {
   "cell_type": "code",
   "execution_count": null,
   "metadata": {},
   "outputs": [],
   "source": [
    "pipette1.pick_up_tip(tiprack10.wells('A1'))\n",
    "extract_BJSvial('A1', 10, '10')\n",
    "fill_BJSvial('A2', 10, '10')\n",
    "pipette1.drop_tip()"
   ]
  },
  {
   "cell_type": "markdown",
   "metadata": {},
   "source": [
    "### (iv) *Filling a column of BJS Vial with 300ul liquid*"
   ]
  },
  {
   "cell_type": "code",
   "execution_count": null,
   "metadata": {},
   "outputs": [],
   "source": [
    "rows = ['A','B','C','D','E','F','G','H']            #define rows\n",
    "pipette2.pick_up_tip(tiprack300.wells('D1'))        #pick up a tip\n",
    "#Iterate over the rows\n",
    "for r in rows:\n",
    "    well = r + '1'                                  #define the well to dispense to\n",
    "    pipette2.aspirate(300, sample.wells('A1'))      #aspirate from the sample\n",
    "    fill_BJSvial(well, 300, '300')                  #fill the vial\n",
    "pipette2.drop_tip()                                 #drop tip"
   ]
  },
  {
   "cell_type": "markdown",
   "metadata": {},
   "source": [
    "### (v) *Loop to fill all wells  of the xxplate using one tip*"
   ]
  },
  {
   "cell_type": "code",
   "execution_count": null,
   "metadata": {},
   "outputs": [],
   "source": [
    "pipette1.pick_up_tip(tiprack10.wells('A1'))         #pick up a 10ul tip\n",
    "rows = ['A','B','C','D']                            #define existing rows\n",
    "for c in range (1,7):                               #iterate over all rows and columns  \n",
    "    for r in rows:\n",
    "        well = r + str(c)                           #define well in current iteration\n",
    "        pipette1.aspirate(6, sample.wells('A1'))    #extract specified volume from sample\n",
    "        fill_xxplate(well, 6, '10')                 #fill specified well on the xxplate by a specified amount\n",
    "pipette1.drop_tip()\n",
    "print('xxplate has been filled')"
   ]
  },
  {
   "cell_type": "markdown",
   "metadata": {},
   "source": [
    "### (vi) *Loop to fill all wells of the xxplate using separate tip for each well*"
   ]
  },
  {
   "cell_type": "code",
   "execution_count": null,
   "metadata": {},
   "outputs": [],
   "source": [
    "init = 1                                            #Start the tip sequence from Column 1 of the tip rack\n",
    "tiprow = 'A'                                        #Start the tip sequence from Row A of the tip rack\n",
    "rows = ['A','B','C','D']                            #Define existing rows of the xxplate\n",
    "\n",
    "for r in rows:                                      #Iterate over 4 rows of the 24 well xxplate\n",
    "    for c in range (1,7):                           #Iterate over 6 columns of the 24 well xxplate\n",
    "        tip = tiprow + str(init)                    #Define the tip to pick up\n",
    "        well = r + str(c)                           #Define well to fill in the xxplate\n",
    "        pipette1.pick_up_tip(tiprack10.wells(tip))  #Pick up 10ul tip from the tiprack\n",
    "        pipette1.aspirate(6, sample.wells('A1'))    #Extract a specified volume from a specified well of the sample\n",
    "        fill_xxplate(well, 6, '10')                 #Fill a specified well on the xxplate by a specified volume\n",
    "        pipette1.drop_tip()                         #Drop current tip in the trash\n",
    "        init += 1                                   #Use the following column of the tip rack for the next iteration\n",
    "        if init == 13:                              #Maximum number of columns in the tip rack is 12, hence no 13th column\n",
    "            init = 1                                #Reset back to first column of the tip rack\n",
    "            tiprow = 'B'                            #Use Row B of the tip rack\n",
    "\n",
    "print('xxplate has been filled')"
   ]
  },
  {
   "cell_type": "markdown",
   "metadata": {},
   "source": [
    "### (vii) *Function that has the rows and columns as arguments to iterate over*"
   ]
  },
  {
   "cell_type": "code",
   "execution_count": null,
   "metadata": {},
   "outputs": [],
   "source": [
    "def iteration(rows,columns,vol):\n",
    "    for r in rows:                           #iterate over the rows defined\n",
    "        for c in (1,columns+1):              #iterate over each column (+1 due to pythons number sequence)\n",
    "            well = r + str(c)                #define well to pick up (e.g - 'A1')\n",
    "            fill_xxplate(well, vol, '300')   #call function to fill a well of the xxplate\n",
    "    return"
   ]
  },
  {
   "cell_type": "markdown",
   "metadata": {},
   "source": [
    "An example of using this function is shown in the cell below:"
   ]
  },
  {
   "cell_type": "code",
   "execution_count": null,
   "metadata": {},
   "outputs": [],
   "source": [
    "pipette2.pick_up_tip(tiprack300.wells('A1')) #pick up a tip\n",
    "iteration(['A','B','C'], 2, 25)              #call the function\n",
    "pipette2.drop_tip()                          #drop tip"
   ]
  },
  {
   "cell_type": "markdown",
   "metadata": {},
   "source": [
    "## 6. *Xxplate for 54 wells and 96 wells*\n",
    "\n",
    "All the examples prior to this has been using the 24 well xxplate. To use the 54 well or 96 well xxplate, be sure to remember to clear the command history, reset the robot, and load the new labwares into the robot. You can find the name for the 54 wells and 96 wells xxplate by calling the function labware.list()."
   ]
  },
  {
   "cell_type": "raw",
   "metadata": {},
   "source": [
    "(e.g - Loading the 96 well labware)\n",
    "\n",
    "xxplate = labware.load('xxplate_96','3')"
   ]
  },
  {
   "cell_type": "markdown",
   "metadata": {},
   "source": [
    "### (i) *54 wells xxplate*\n",
    "\n",
    "The following cell defines the function for the robot to interact with the 54 plate xxplate. This is done by making a custom command that accomodates the offset of the 54 plate xxplate. The coordinates of the offset is deduced using trial and error. The function can be used to create custom procedures similar to the ones done for the 24 well xxplate."
   ]
  },
  {
   "cell_type": "code",
   "execution_count": null,
   "metadata": {},
   "outputs": [],
   "source": [
    "def fill_xxplate54(well, vol, tip):\n",
    "    if tip == '10':\n",
    "        offset = xxplate.wells('A1').from_center(x=18.7,y=12,z=0.0)\n",
    "        destination = (xxplate.wells(well), offset)\n",
    "        pipette1.move_to(destination, strategy='arc')\n",
    "        pipette1.dispense(vol)\n",
    "    elif tip == '300':\n",
    "        offset = xxplate.wells('A1').from_center(x=19.5,y=10.5,z=0.2)\n",
    "        destination = (xxplate.wells(well), offset)\n",
    "        pipette2.move_to(destination, strategy='arc')\n",
    "        pipette2.dispense(vol)\n",
    "    else:\n",
    "        print('Please specify a valid tip (\\'10\\' or \\'300\\')')\n",
    "    return"
   ]
  },
  {
   "cell_type": "markdown",
   "metadata": {},
   "source": [
    "### (ii) *96 well xxplate*\n",
    "\n",
    "The following cell defines the function for the robot to interact with the 96 plate xxplate. This is done by making a custom command that accomodates the offset of the 96 plate xxplate. The coordinates of the offset is deduced using trial and error. The function can be used to create custom procedures similar to the ones done for the 24 well xxplate. "
   ]
  },
  {
   "cell_type": "code",
   "execution_count": null,
   "metadata": {},
   "outputs": [],
   "source": [
    "def fill_xxplate96(well, vol, tip):\n",
    "    if tip == '10':\n",
    "        offset = xxplate.wells('A1').from_center(x=24.5,y=15.5,z=0.0)\n",
    "        destination = (xxplate.wells(well), offset)\n",
    "        pipette1.move_to(destination, strategy='arc')\n",
    "    elif tip == '300':\n",
    "        offset = xxplate.wells('A1').from_center(x=25.7,y=13.5,z=0.2)\n",
    "        destination = (xxplate.wells(well), offset)\n",
    "        pipette2.move_to(destination, strategy='arc')\n",
    "    else:\n",
    "        print('Please specify a valid tip (\\'10\\' or \\'300\\')')\n",
    "    return"
   ]
  },
  {
   "cell_type": "markdown",
   "metadata": {},
   "source": [
    "### (iii) *Buffer sequence (54 wells)*\n",
    "\n",
    "The following cell shows the function that calls the sequence to fill a 54 well xxplate with the rehyration buffer. It is similar to the code for the 24 well xxplate where it is time optimised for the volume the user wishes to dispense into a well. In this sequence, a single tip is used to extract from a sample and dispensed into every well of the xxplate."
   ]
  },
  {
   "cell_type": "code",
   "execution_count": null,
   "metadata": {},
   "outputs": [],
   "source": [
    "def buffer_sequence(vol):\n",
    "    if 16.66 < vol < 33.33:\n",
    "        rows = ['A','B','C','D','E','F']\n",
    "        to_extract = vol*9\n",
    "        for r in rows:\n",
    "            pipette2.aspirate(to_extract, sample.wells('A1'))\n",
    "            for c in range (1,10):\n",
    "                well = r + str(c)\n",
    "                fill_xxplate54(well, vol, '300')\n",
    "    elif 11.11 < vol < 16.67:\n",
    "        rows = ['A','B']\n",
    "        to_extract = vol*18\n",
    "        pipette2.aspirate(to_extract, sample.wells('A1'))\n",
    "        for r in rows:\n",
    "            for c in range (1,10):\n",
    "                well = r + str(c)\n",
    "                fill_xxplate54(well, vol, '300')\n",
    "        rows = ['C','D']\n",
    "        pipette2.aspirate(to_extract, sample.wells('A1'))\n",
    "        for r in rows:\n",
    "            for c in range (1,10):\n",
    "                well = r + str(c)\n",
    "                fill_xxplate54(well, vol, '300')\n",
    "        rows = ['E','F']\n",
    "        pipette2.aspirate(to_extract, sample.wells('A1'))\n",
    "        for r in rows:\n",
    "            for c in range (1,10):\n",
    "                well = r + str(c)\n",
    "                fill_xxplate54(well, vol, '300')\n",
    "    elif 5.55 < vol < 11.12:\n",
    "        rows = ['A','B','C']\n",
    "        to_extract = vol*27\n",
    "        pipette2.aspirate(to_extract, sample.wells('A1'))\n",
    "        for r in rows:\n",
    "            for c in range (1,10):\n",
    "                well = r + str(c)\n",
    "                fill_xxplate54(well, vol, '300')\n",
    "        rows = ['D','E','F']\n",
    "        pipette2.aspirate(to_extract, sample.wells('A1'))\n",
    "        for r in rows:\n",
    "            for c in range (1,10):\n",
    "                well = r + str(c)\n",
    "                fill_xxplate54(well, vol, '300')\n",
    "    elif 0 < vol < 5.56:\n",
    "        rows = ['A','B','C','D','E','F']\n",
    "        to_extract = vol*54\n",
    "        pipette2.aspirate(to_extract, sample.wells('A1'))\n",
    "        for r in rows:\n",
    "            for c in range (1,10):\n",
    "                well = r + str(c)\n",
    "                fill_xxplate54(well, vol, '300')\n",
    "    else:\n",
    "        print('Please specify a volume within the valid range')\n",
    "    return"
   ]
  },
  {
   "cell_type": "markdown",
   "metadata": {},
   "source": [
    "### (iv) *Buffer sequence (96 wells)*\n",
    "\n",
    "The following cell shows the function that calls the sequence to fill a 96 well xxplate with the rehyration buffer. It is similar to the code for the 24 well xxplate where it is time optimised for the volume the user wishes to dispense into a well. In this sequence, a single tip is used to extract from a sample and dispensed into every well of the xxplate."
   ]
  },
  {
   "cell_type": "code",
   "execution_count": null,
   "metadata": {},
   "outputs": [],
   "source": [
    "def buffer_sequence(vol):\n",
    "    if 12.5 < vol < 22.6:\n",
    "        rows = ['A','B','C','D','E','F','G','H']\n",
    "        to_extract = vol*12\n",
    "        for r in rows:\n",
    "            pipette2.aspirate(to_extract, sample.wells('A1'))\n",
    "            for c in range (1,13):\n",
    "                well = r + str(c)\n",
    "                fill_xxplate96(well, vol, '300')\n",
    "    elif 6.25 < vol < 12.51:\n",
    "        rows = ['A','B']\n",
    "        to_extract = vol*24\n",
    "        pipette2.aspirate(to_extract, sample.wells('A1'))\n",
    "        for r in rows:\n",
    "            for c in range (1,13):\n",
    "                well = r + str(c)\n",
    "                fill_xxplate96(well, vol, '300')\n",
    "        rows = ['C','D']\n",
    "        pipette2.aspirate(to_extract, sample.wells('A1'))\n",
    "        for r in rows:\n",
    "            for c in range (1,13):\n",
    "                well = r + str(c)\n",
    "                fill_xxplate96(well, vol, '300')\n",
    "        rows = ['E','F']\n",
    "        pipette2.aspirate(to_extract, sample.wells('A1'))\n",
    "        for r in rows:\n",
    "            for c in range (1,13):\n",
    "                well = r + str(c)\n",
    "                fill_xxplate96(well, vol, '300')\n",
    "        rows = ['G','H'http://10.44.187.13:48888/notebooks/Instruction%20Manual.ipynb#]\n",
    "        pipette2,aspirate(to_extract, sample.wells('A1'))\n",
    "        for r in rows:\n",
    "            for c in range (1,13):\n",
    "                well = r + str(c)\n",
    "                fill_xxplate96(well, vol, '300')\n",
    "    elif 3.12 < vol < 6.26:\n",
    "        rows = ['A','B','C','D']\n",
    "        to_extract = vol*48\n",
    "        pipette2.aspirate(to_extract, sample.wells('A1'))\n",
    "        for r in rows:\n",
    "            for c in range (1,13):\n",
    "                well = r + str(c)\n",
    "                fill_xxplate96(well, vol, '300')\n",
    "        rows = ['E','F','G','H']\n",
    "        pipette2.aspirate(to_extract, sample.wells('A1'))\n",
    "        for r in rows:\n",
    "            for c in range (1,13):\n",
    "                well = r + str(c)\n",
    "                fill_xxplate96(well, vol, '300')\n",
    "    elif 0 < vol < 3.13:\n",
    "        rows = ['A','B','C','D','E','F','G']\n",
    "        to_extract = vol*96\n",
    "        pipette2.aspirate(to_extract, sample.wells('A1'))\n",
    "        for r in rows:\n",
    "            for c in range (1,13):\n",
    "                well = r + str(c)\n",
    "                fill_xxplate96(well, vol, '300')                \n",
    "    else:\n",
    "        print('Please specify a volume within the valid range')\n",
    "    return"
   ]
  }
 ],
 "metadata": {
  "kernelspec": {
   "display_name": "Python 3",
   "language": "python",
   "name": "python3"
  },
  "language_info": {
   "codemirror_mode": {
    "name": "ipython",
    "version": 3
   },
   "file_extension": ".py",
   "mimetype": "text/x-python",
   "name": "python",
   "nbconvert_exporter": "python",
   "pygments_lexer": "ipython3",
   "version": "3.7.3"
  }
 },
 "nbformat": 4,
 "nbformat_minor": 2
}
